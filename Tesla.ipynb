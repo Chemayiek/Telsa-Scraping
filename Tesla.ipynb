{
 "cells": [
  {
   "cell_type": "code",
   "execution_count": 10,
   "id": "87743771",
   "metadata": {},
   "outputs": [
    {
     "name": "stderr",
     "output_type": "stream",
     "text": [
      "The chromedriver version (126.0.6478.126) detected in PATH at /usr/local/bin/chromedriver might not be compatible with the detected chrome version (127.0.6533.119); currently, chromedriver 127.0.6533.119 is recommended for chrome 127.*, so it is advised to delete the driver in PATH and retry\n"
     ]
    },
    {
     "name": "stdout",
     "output_type": "stream",
     "text": [
      "Data has been saved to revenue_data.csv2\n"
     ]
    }
   ],
   "source": [
    "import csv\n",
    "from selenium import webdriver\n",
    "from selenium.webdriver.chrome.service import Service\n",
    "from selenium.webdriver.common.by import By\n",
    "from bs4 import BeautifulSoup\n",
    "import time\n",
    "\n",
    "\n",
    "driver = webdriver.Chrome()\n",
    "\n",
    "\n",
    "driver.get('https://www.macrotrends.net/stocks/charts/TSLA/tesla/revenue')\n",
    "\n",
    "\n",
    "time.sleep(5)  \n",
    "\n",
    "\n",
    "html_content = driver.page_source\n",
    "\n",
    "soup = BeautifulSoup(html_content, 'html.parser')\n",
    "driver.quit()\n",
    "\n",
    "# Extract annual revenue data\n",
    "annual_revenue_table = soup.find_all('table', class_='historical_data_table')[0]  \n",
    "annual_rows = annual_revenue_table.find('tbody').find_all('tr')\n",
    "\n",
    "annual_revenue = []\n",
    "for row in annual_rows:\n",
    "    year = row.find_all('td')[0].text.strip()  # Extract year\n",
    "    revenue = row.find_all('td')[1].text.strip()  # Extract revenue\n",
    "    annual_revenue.append(('Year', year, revenue))  \n",
    "\n",
    "# Extract quarterly revenue data\n",
    "quarterly_revenue_table = soup.find_all('table', class_='historical_data_table')[1]  \n",
    "quarterly_rows = quarterly_revenue_table.find('tbody').find_all('tr')\n",
    "\n",
    "quarterly_revenue = []\n",
    "for row in quarterly_rows:\n",
    "    date = row.find_all('td')[0].text.strip()  \n",
    "    revenue = row.find_all('td')[1].text.strip()  \n",
    "    quarterly_revenue.append(('Date', date, revenue)) \n",
    "\n",
    "\n",
    "combined_data = annual_revenue + quarterly_revenue\n",
    "\n",
    "# Save the data into a CSV file\n",
    "csv_filename = \"revenue_data.csv2\"\n",
    "\n",
    "with open(csv_filename, mode='w', newline='', encoding='utf-8') as file:\n",
    "    writer = csv.writer(file)\n",
    "    \n",
    "    # Write the header\n",
    "    writer.writerow([\"Type\", \"Year/Date\", \"Revenue\"])\n",
    "    \n",
    "    # Write the rows\n",
    "    writer.writerows(combined_data)\n",
    "\n",
    "print(f\"Data has been saved to {csv_filename}\")\n"
   ]
  },
  {
   "cell_type": "code",
   "execution_count": null,
   "id": "d79d8d4d",
   "metadata": {},
   "outputs": [],
   "source": []
  }
 ],
 "metadata": {
  "kernelspec": {
   "display_name": "Python 3 (ipykernel)",
   "language": "python",
   "name": "python3"
  },
  "language_info": {
   "codemirror_mode": {
    "name": "ipython",
    "version": 3
   },
   "file_extension": ".py",
   "mimetype": "text/x-python",
   "name": "python",
   "nbconvert_exporter": "python",
   "pygments_lexer": "ipython3",
   "version": "3.10.12"
  }
 },
 "nbformat": 4,
 "nbformat_minor": 5
}
